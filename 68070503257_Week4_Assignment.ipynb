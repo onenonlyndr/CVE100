{
 "cells": [
  {
   "cell_type": "code",
   "execution_count": 2,
   "id": "90ddfc08",
   "metadata": {},
   "outputs": [
    {
     "name": "stdout",
     "output_type": "stream",
     "text": [
      "1 is odd.\n",
      "2 is even.\n",
      "3 is odd.\n",
      "4 is even.\n",
      "5 is odd.\n",
      "6 is even.\n",
      "7 is odd.\n",
      "8 is even.\n",
      "9 is odd.\n"
     ]
    }
   ],
   "source": [
    "#Even and Odd\n",
    "n=10\n",
    "for i in range(1,n):\n",
    "    if i%2==0:\n",
    "        print(i,\"is even.\")\n",
    "    else:\n",
    "        print(i,\"is odd.\")"
   ]
  },
  {
   "cell_type": "code",
   "execution_count": 3,
   "id": "d1754778",
   "metadata": {},
   "outputs": [
    {
     "name": "stdout",
     "output_type": "stream",
     "text": [
      "The result is large.\n",
      "The result is large.\n",
      "The result is large.\n",
      "The result is large.\n",
      "The result is large.\n",
      "The result is large.\n",
      "The result is large.\n",
      "The result is large.\n",
      "The result is large.\n"
     ]
    }
   ],
   "source": [
    "num=100\n",
    "for i in range(1,10):\n",
    "    if num/i>5:\n",
    "        print(\"The result is large.\")\n",
    "    elif num/i==6:\n",
    "        continue\n",
    "    else:\n",
    "        print(\"Actual Quotient is\",num/i)\n",
    "    "
   ]
  },
  {
   "cell_type": "code",
   "execution_count": 2,
   "id": "7a60eb04",
   "metadata": {},
   "outputs": [
    {
     "name": "stdout",
     "output_type": "stream",
     "text": [
      "User not found.\n"
     ]
    }
   ],
   "source": [
    "Credentials={'user1':'abc123','admin':'adminpass','guest':'guest123'}\n",
    "username=input(\"Enter your username\")\n",
    "password = input(\"Enter your Password\")\n",
    "if username in Credentials:\n",
    "    if Credentials[username]==password:\n",
    "        print(\"Login Successful\")\n",
    "    else:\n",
    "        print(\"Incorrect Password\")\n",
    "else:\n",
    "    print(\"User not found.\")\n",
    "    \n"
   ]
  },
  {
   "cell_type": "code",
   "execution_count": 5,
   "id": "827bae6e",
   "metadata": {},
   "outputs": [
    {
     "name": "stdout",
     "output_type": "stream",
     "text": [
      "* * * * * \n",
      "* * * * * \n",
      "* * * * * \n",
      "* * * * * \n",
      "* * * * * \n"
     ]
    }
   ],
   "source": [
    "stars=5\n",
    "rows=5\n",
    "for i in range(1,rows+1):\n",
    "    for j in range(1,stars+1):\n",
    "        print(\"*\",end=\" \")\n",
    "    print()"
   ]
  },
  {
   "cell_type": "code",
   "execution_count": 7,
   "id": "9cf7306c",
   "metadata": {},
   "outputs": [
    {
     "name": "stdout",
     "output_type": "stream",
     "text": [
      "* \n",
      "* * \n",
      "* * * \n",
      "* * * * \n",
      "* * * * * \n"
     ]
    }
   ],
   "source": [
    "stars=5\n",
    "rows=5\n",
    "for i in range(1,rows+1):\n",
    "    for j in range(i):\n",
    "        print(\"*\",end=\" \")\n",
    "    print()"
   ]
  },
  {
   "cell_type": "code",
   "execution_count": 19,
   "id": "707f4c45",
   "metadata": {},
   "outputs": [
    {
     "name": "stdout",
     "output_type": "stream",
     "text": [
      "Limit reached. You cannot buy anymore.\n"
     ]
    }
   ],
   "source": [
    "total_bill=0\n",
    "price=float(input(\"Enter your Price: \"))\n",
    "total_bill+=price\n",
    "while total_bill<1000:\n",
    "    price=float(input(\"Enter your Price: \"))\n",
    "    total_bill+=price\n",
    "print(\"Limit reached. You cannot buy anymore.\")\n"
   ]
  }
 ],
 "metadata": {
  "kernelspec": {
   "display_name": ".venv",
   "language": "python",
   "name": "python3"
  },
  "language_info": {
   "codemirror_mode": {
    "name": "ipython",
    "version": 3
   },
   "file_extension": ".py",
   "mimetype": "text/x-python",
   "name": "python",
   "nbconvert_exporter": "python",
   "pygments_lexer": "ipython3",
   "version": "3.13.5"
  }
 },
 "nbformat": 4,
 "nbformat_minor": 5
}
