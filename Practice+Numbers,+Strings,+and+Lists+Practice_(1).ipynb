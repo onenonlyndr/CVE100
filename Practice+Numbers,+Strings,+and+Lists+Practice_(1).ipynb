{
  "cells": [
    {
      "cell_type": "markdown",
      "metadata": {
        "id": "view-in-github",
        "colab_type": "text"
      },
      "source": [
        "<a href=\"https://colab.research.google.com/github/onenonlyndr/CVE100/blob/main/Practice%2BNumbers%2C%2BStrings%2C%2Band%2BLists%2BPractice_(1).ipynb\" target=\"_parent\"><img src=\"https://colab.research.google.com/assets/colab-badge.svg\" alt=\"Open In Colab\"/></a>"
      ]
    },
    {
      "cell_type": "markdown",
      "metadata": {
        "id": "cpGgT_S3JjCM"
      },
      "source": [
        "#  Numbers"
      ]
    },
    {
      "cell_type": "markdown",
      "metadata": {
        "id": "nGJpwrEuJjCP"
      },
      "source": [
        "Compute the number of bytes in one Gigabyte (1kb = 1024 bytes, 1mb = 1024 kb, 1gb = 1024 mb)"
      ]
    },
    {
      "cell_type": "code",
      "execution_count": null,
      "metadata": {
        "id": "rSGFyx_FJjCQ"
      },
      "outputs": [],
      "source": [
        "#Write your code here\n",
        "total_number_of_bytes=1024*1024*1024\n",
        "print(total_number_of_bytes)"
      ]
    },
    {
      "cell_type": "markdown",
      "metadata": {
        "id": "OCgnS52GJjCU"
      },
      "source": [
        "You bought 500 shares of stock A at $\\$$600 on day 0 and you sold it at  $\\$$1000 on day 700.\n",
        "The daily discount rate is 0.0001%. How much profit did you make in terms of net present value.\n"
      ]
    },
    {
      "cell_type": "code",
      "execution_count": 2,
      "metadata": {
        "colab": {
          "base_uri": "https://localhost:8080/"
        },
        "id": "70BShueuJjCV",
        "outputId": "9e055d86-d590-4514-e6f3-37c976af6a3f"
      },
      "outputs": [
        {
          "output_type": "stream",
          "name": "stdout",
          "text": [
            "199650.12264632783\n"
          ]
        }
      ],
      "source": [
        "#Write your code here\n",
        "total_shares=500\n",
        "purchase_price=600\n",
        "total_purchase_price=total_shares*purchase_price\n",
        "selling_price=1000\n",
        "total_selling_price=total_shares*selling_price\n",
        "total_profit=total_selling_price-total_purchase_price\n",
        "discount_rate=0.0001/100\n",
        "total_days=700\n",
        "future_value=total_selling_price\n",
        "present_value=future_value/(1+discount_rate)**700\n",
        "Net_present_value=present_value-total_purchase_price\n",
        "print(Net_present_value)"
      ]
    },
    {
      "cell_type": "markdown",
      "metadata": {
        "id": "1ux3ISdiJjCW"
      },
      "source": [
        "For any value of x, create a variable called even_check that is True if x is even and False if x is odd."
      ]
    },
    {
      "cell_type": "code",
      "execution_count": 3,
      "metadata": {
        "run_control": {
          "marked": true
        },
        "colab": {
          "base_uri": "https://localhost:8080/"
        },
        "id": "99mmjT72JjCW",
        "outputId": "bf207a30-1c85-45c9-ab2f-2f14f2c02692"
      },
      "outputs": [
        {
          "output_type": "stream",
          "name": "stdout",
          "text": [
            "Enter any number: 24\n",
            "True\n"
          ]
        }
      ],
      "source": [
        "#Write your code here\n",
        "x=int(input(\"Enter any number: \"))\n",
        "if x%2==0:\n",
        "  even_check=True\n",
        "else:\n",
        "  even_check=False\n",
        "print(even_check)"
      ]
    },
    {
      "cell_type": "markdown",
      "metadata": {
        "id": "pKWRMb0ZJjCX"
      },
      "source": [
        "You have num_shirts t-shirts, num_shorts pairs of shorts and num_shoes pairs of shoes.  Create a variable called num_outfits that stores the total number of different outfits you can make."
      ]
    },
    {
      "cell_type": "code",
      "execution_count": 4,
      "metadata": {
        "colab": {
          "base_uri": "https://localhost:8080/"
        },
        "id": "ibByjHoSJjCY",
        "outputId": "c8113d79-4609-4652-8841-afc0246065ec"
      },
      "outputs": [
        {
          "output_type": "stream",
          "name": "stdout",
          "text": [
            "Total number of different outifts you can make is 125 .\n"
          ]
        }
      ],
      "source": [
        "#Write your code here\n",
        "\n",
        "nunm_shirt=5\n",
        "num_shorts=5\n",
        "num_shoes=5\n",
        "num_outfits=nunm_shirt*num_shorts*num_shoes\n",
        "print(\"Total number of different outifts you can make is\",num_outfits,\".\")"
      ]
    },
    {
      "cell_type": "markdown",
      "metadata": {
        "id": "Yx5UzutKJjCa"
      },
      "source": [
        "# String Practice\n",
        "\n",
        "Create variable called \"name\" that stores your full name. Find whether your name has an even or odd number of letters."
      ]
    },
    {
      "cell_type": "code",
      "execution_count": 8,
      "metadata": {
        "colab": {
          "base_uri": "https://localhost:8080/"
        },
        "id": "emr2gn3EJjCa",
        "outputId": "35061995-9963-4fe4-becb-710cefa8fc7c"
      },
      "outputs": [
        {
          "output_type": "stream",
          "name": "stdout",
          "text": [
            "Your name has even number of letters.\n"
          ]
        }
      ],
      "source": [
        "#Write your code here\n",
        "name=\"Hla Nandar\"\n",
        "name_length=len(name)\n",
        "if name_length%2==0:\n",
        "  print(\"Your name has even number of letters.\")\n",
        "else:\n",
        "  print(\"Your name has odd number of letters.\")"
      ]
    },
    {
      "cell_type": "markdown",
      "metadata": {
        "id": "YU7bmaIqJjCb"
      },
      "source": [
        "Correct the following variable so it is equal to \"spammy\""
      ]
    },
    {
      "cell_type": "code",
      "execution_count": 9,
      "metadata": {
        "colab": {
          "base_uri": "https://localhost:8080/"
        },
        "id": "6Q_lbD9IJjCc",
        "outputId": "e18088fd-d2b5-48e4-9484-c314299c8fe5"
      },
      "outputs": [
        {
          "output_type": "stream",
          "name": "stdout",
          "text": [
            "The correction of s is spammy .\n"
          ]
        }
      ],
      "source": [
        "#Write your code here\n",
        "s = \"spaxxy\"\n",
        "s_correction=s[:3]+'mm'+s[5:]\n",
        "\n",
        "print(\"The correction of s is\",s_correction,\".\")"
      ]
    },
    {
      "cell_type": "markdown",
      "metadata": {
        "id": "OH7XNEHmJjCc"
      },
      "source": [
        "Figure out a way to slice and combine the strings s1, s2, and s3 so that the variable consec_ints = \"123456789\"."
      ]
    },
    {
      "cell_type": "code",
      "execution_count": 11,
      "metadata": {
        "colab": {
          "base_uri": "https://localhost:8080/"
        },
        "id": "iNFVasmJJjCd",
        "outputId": "0e4d6f17-fd73-410d-d1cd-f70353208598"
      },
      "outputs": [
        {
          "output_type": "stream",
          "name": "stdout",
          "text": [
            "123456789\n"
          ]
        }
      ],
      "source": [
        "s1 = \"12345\"\n",
        "s2 = \"34567\"\n",
        "s3 = \"789\"\n",
        "\n",
        "#Write your code here\n",
        "combined_code=s1+s2[3]+s3\n",
        "print(combined_code)\n"
      ]
    },
    {
      "cell_type": "markdown",
      "metadata": {
        "id": "-doqE3e2JjCd"
      },
      "source": [
        "#  List Practice\n",
        "\n"
      ]
    },
    {
      "cell_type": "markdown",
      "metadata": {
        "id": "Sbb68SP5JjCd"
      },
      "source": [
        "Add the first and last elements of the list L. Store the result in a variable called sum_first_last. Your code should work if I change L."
      ]
    },
    {
      "cell_type": "code",
      "execution_count": 12,
      "metadata": {
        "colab": {
          "base_uri": "https://localhost:8080/"
        },
        "id": "ZqE_QJYfJjCe",
        "outputId": "73a7d6ff-5562-4365-e6fe-f9eed7c3fad9"
      },
      "outputs": [
        {
          "output_type": "stream",
          "name": "stdout",
          "text": [
            "72\n"
          ]
        }
      ],
      "source": [
        "L = [5,1,43,2,4,56,7,90, 67]\n",
        "\n",
        "#Write your code here\n",
        "sum_first_last=L[0]+L[8]\n",
        "print(sum_first_last)"
      ]
    },
    {
      "cell_type": "markdown",
      "metadata": {
        "id": "jebkf3jEJjCe"
      },
      "source": [
        "Slice and combine the elements of the list L in a way to print out \"spam\"."
      ]
    },
    {
      "cell_type": "code",
      "execution_count": 14,
      "metadata": {
        "colab": {
          "base_uri": "https://localhost:8080/"
        },
        "id": "TWJ6BGeIJjCe",
        "outputId": "119583a9-5699-4797-cc6a-cdda1810df41"
      },
      "outputs": [
        {
          "output_type": "stream",
          "name": "stdout",
          "text": [
            "spam\n"
          ]
        }
      ],
      "source": [
        "L = [1,\"s\", 2, 3, \"p\", \"a\", 34,1,\"m\"]\n",
        "\n",
        "\n",
        "#Write your code here\n",
        "combined_spam=L[1]+L[4]+L[5]+L[8]\n",
        "print(combined_spam)\n"
      ]
    },
    {
      "cell_type": "markdown",
      "metadata": {
        "id": "YiIff-gqJjCe"
      },
      "source": [
        "Create a variable called num_L which store the number represented by the list of strings in L.  For the example num_L should be 145. You may assume 3 digit numbers."
      ]
    },
    {
      "cell_type": "code",
      "execution_count": null,
      "metadata": {
        "id": "hwo6CRjkJjCf"
      },
      "outputs": [],
      "source": [
        "L = [\"1\",\"4\",\"5\" ]\n",
        "\n",
        "#Write you code here\n",
        "L_num = int(\"\".join(L))"
      ]
    },
    {
      "cell_type": "markdown",
      "metadata": {
        "id": "Wq7GaZ7wJjCg"
      },
      "source": [
        "Create a list L of numbers of odd length.  Complete the following tasks:\n",
        "\n",
        " - Find the median element\n",
        " - Slice out all element indexed lower than the median element"
      ]
    },
    {
      "cell_type": "code",
      "execution_count": 15,
      "metadata": {
        "colab": {
          "base_uri": "https://localhost:8080/"
        },
        "id": "hklDZwihJjCh",
        "outputId": "dc1c172b-7387-4f46-8802-ae7580ac870a"
      },
      "outputs": [
        {
          "output_type": "stream",
          "name": "stdout",
          "text": [
            "5\n",
            "[4, 5, 3]\n"
          ]
        }
      ],
      "source": [
        "L= [4,5,3,2,6,6,9]\n",
        "\n",
        "#Write your code here\n",
        "unsorted_list=[4,5,3,2,6,6,9]\n",
        "sorted_list=sorted(unsorted_list)\n",
        "median_roomnumber=len(sorted_list)//2\n",
        "median_element=sorted_list[median_roomnumber]\n",
        "sliced_index=len(L)//2\n",
        "lower_elements=L[:sliced_index]\n",
        "print(median_element)\n",
        "print(lower_elements)"
      ]
    }
  ],
  "metadata": {
    "kernelspec": {
      "display_name": "Python 3",
      "language": "python",
      "name": "python3"
    },
    "language_info": {
      "codemirror_mode": {
        "name": "ipython",
        "version": 3
      },
      "file_extension": ".py",
      "mimetype": "text/x-python",
      "name": "python",
      "nbconvert_exporter": "python",
      "pygments_lexer": "ipython3",
      "version": "3.6.0"
    },
    "toc": {
      "colors": {
        "hover_highlight": "#DAA520",
        "navigate_num": "#000000",
        "navigate_text": "#333333",
        "running_highlight": "#FF0000",
        "selected_highlight": "#FFD700",
        "sidebar_border": "#EEEEEE",
        "wrapper_background": "#FFFFFF"
      },
      "moveMenuLeft": true,
      "nav_menu": {
        "height": "12px",
        "width": "252px"
      },
      "navigate_menu": true,
      "number_sections": true,
      "sideBar": true,
      "skip_h1_title": false,
      "threshold": 4,
      "toc_cell": false,
      "toc_position": {},
      "toc_section_display": "block",
      "toc_window_display": false,
      "widenNotebook": false
    },
    "colab": {
      "provenance": [],
      "include_colab_link": true
    }
  },
  "nbformat": 4,
  "nbformat_minor": 0
}